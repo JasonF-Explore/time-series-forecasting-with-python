{
  "nbformat": 4,
  "nbformat_minor": 5,
  "metadata": {
    "kernelspec": {
      "display_name": "Python 3 (ipykernel)",
      "language": "python",
      "name": "python3"
    },
    "language_info": {
      "codemirror_mode": {
        "name": "ipython",
        "version": 3
      },
      "file_extension": ".py",
      "mimetype": "text/x-python",
      "name": "python",
      "nbconvert_exporter": "python",
      "pygments_lexer": "ipython3",
      "version": "3.8.8"
    },
    "colab": {
      "name": "demand_time_series_analysis.ipynb",
      "provenance": []
    }
  },
  "cells": [
    {
      "cell_type": "code",
      "metadata": {
        "id": "cf80611b",
        "outputId": "16aa51f3-d9b0-42ff-8dc3-a0864e784a6b",
        "colab": {
          "base_uri": "https://localhost:8080/",
          "height": 1000
        }
      },
      "source": [
        "!pip install dvc dvc[gdrive]"
      ],
      "id": "cf80611b",
      "execution_count": 1,
      "outputs": [
        {
          "output_type": "stream",
          "name": "stdout",
          "text": [
            "Collecting dvc\n",
            "  Downloading dvc-2.7.2-py3-none-any.whl (666 kB)\n",
            "\u001b[K     |████████████████████████████████| 666 kB 6.6 MB/s \n",
            "\u001b[?25hCollecting psutil>=5.8.0\n",
            "  Downloading psutil-5.8.0-cp37-cp37m-manylinux2010_x86_64.whl (296 kB)\n",
            "\u001b[K     |████████████████████████████████| 296 kB 60.7 MB/s \n",
            "\u001b[?25hCollecting dictdiffer>=0.8.1\n",
            "  Downloading dictdiffer-0.9.0-py2.py3-none-any.whl (16 kB)\n",
            "Requirement already satisfied: requests>=2.22.0 in /usr/local/lib/python3.7/dist-packages (from dvc) (2.23.0)\n",
            "Collecting aiohttp-retry==2.4.5\n",
            "  Downloading aiohttp_retry-2.4.5-py3-none-any.whl (7.5 kB)\n",
            "Collecting pathspec<0.9.0,>=0.6.0\n",
            "  Downloading pathspec-0.8.1-py2.py3-none-any.whl (28 kB)\n",
            "Requirement already satisfied: pydot>=1.2.4 in /usr/local/lib/python3.7/dist-packages (from dvc) (1.3.0)\n",
            "Collecting grandalf==0.6\n",
            "  Downloading grandalf-0.6-py3-none-any.whl (31 kB)\n",
            "Requirement already satisfied: appdirs>=1.4.3 in /usr/local/lib/python3.7/dist-packages (from dvc) (1.4.4)\n",
            "Requirement already satisfied: pyparsing==2.4.7 in /usr/local/lib/python3.7/dist-packages (from dvc) (2.4.7)\n",
            "Requirement already satisfied: networkx>=2.5 in /usr/local/lib/python3.7/dist-packages (from dvc) (2.6.2)\n",
            "Collecting rich>=10.0.0\n",
            "  Downloading rich-10.9.0-py3-none-any.whl (211 kB)\n",
            "\u001b[K     |████████████████████████████████| 211 kB 34.3 MB/s \n",
            "\u001b[?25hCollecting distro>=1.3.0\n",
            "  Downloading distro-1.6.0-py2.py3-none-any.whl (19 kB)\n",
            "Collecting gitpython>3\n",
            "  Downloading GitPython-3.1.18-py3-none-any.whl (170 kB)\n",
            "\u001b[K     |████████████████████████████████| 170 kB 59.9 MB/s \n",
            "\u001b[?25hCollecting flufl.lock<4,>=3.2\n",
            "  Downloading flufl.lock-3.2.tar.gz (19 kB)\n",
            "Collecting diskcache>=5.2.1\n",
            "  Downloading diskcache-5.2.1-py3-none-any.whl (44 kB)\n",
            "\u001b[K     |████████████████████████████████| 44 kB 3.2 MB/s \n",
            "\u001b[?25hCollecting pygit2>=1.5.0\n",
            "  Downloading pygit2-1.6.1-cp37-cp37m-manylinux_2_17_x86_64.manylinux2014_x86_64.whl (4.6 MB)\n",
            "\u001b[K     |████████████████████████████████| 4.6 MB 41.2 MB/s \n",
            "\u001b[?25hCollecting dulwich>=0.20.23\n",
            "  Downloading dulwich-0.20.25-cp37-cp37m-manylinux_2_5_x86_64.manylinux1_x86_64.manylinux_2_12_x86_64.manylinux2010_x86_64.whl (530 kB)\n",
            "\u001b[K     |████████████████████████████████| 530 kB 47.3 MB/s \n",
            "\u001b[?25hCollecting ruamel.yaml>=0.17.11\n",
            "  Downloading ruamel.yaml-0.17.16-py3-none-any.whl (109 kB)\n",
            "\u001b[K     |████████████████████████████████| 109 kB 57.5 MB/s \n",
            "\u001b[?25hRequirement already satisfied: packaging>=19.0 in /usr/local/lib/python3.7/dist-packages (from dvc) (21.0)\n",
            "Collecting python-benedict>=0.21.1\n",
            "  Downloading python_benedict-0.24.2-py3-none-any.whl (40 kB)\n",
            "\u001b[K     |████████████████████████████████| 40 kB 17 kB/s \n",
            "\u001b[?25hCollecting funcy>=1.14\n",
            "  Downloading funcy-1.16-py2.py3-none-any.whl (32 kB)\n",
            "Collecting nanotime>=0.5.2\n",
            "  Downloading nanotime-0.5.2.tar.gz (3.2 kB)\n",
            "Collecting dpath<3,>=2.0.1\n",
            "  Downloading dpath-2.0.5-py3-none-any.whl (15 kB)\n",
            "Requirement already satisfied: pyasn1>=0.4.1 in /usr/local/lib/python3.7/dist-packages (from dvc) (0.4.8)\n",
            "Collecting voluptuous>=0.11.7\n",
            "  Downloading voluptuous-0.12.1-py3-none-any.whl (29 kB)\n",
            "Collecting colorama>=0.3.9\n",
            "  Downloading colorama-0.4.4-py2.py3-none-any.whl (16 kB)\n",
            "Collecting fsspec[http]>=2021.8.1\n",
            "  Downloading fsspec-2021.8.1-py3-none-any.whl (119 kB)\n",
            "\u001b[K     |████████████████████████████████| 119 kB 68.5 MB/s \n",
            "\u001b[?25hRequirement already satisfied: tqdm<5,>=4.45.0 in /usr/local/lib/python3.7/dist-packages (from dvc) (4.62.0)\n",
            "Collecting flatten-dict<1,>=0.4.1\n",
            "  Downloading flatten_dict-0.4.2-py2.py3-none-any.whl (9.7 kB)\n",
            "Collecting pygtrie>=2.3.2\n",
            "  Downloading pygtrie-2.4.2.tar.gz (35 kB)\n",
            "Requirement already satisfied: typing-extensions>=3.7.4 in /usr/local/lib/python3.7/dist-packages (from dvc) (3.7.4.3)\n",
            "Requirement already satisfied: importlib-metadata>=1.4 in /usr/local/lib/python3.7/dist-packages (from dvc) (4.6.4)\n",
            "Collecting shtab<2,>=1.3.4\n",
            "  Downloading shtab-1.4.1-py2.py3-none-any.whl (13 kB)\n",
            "Collecting configobj>=5.0.6\n",
            "  Downloading configobj-5.0.6.tar.gz (33 kB)\n",
            "Requirement already satisfied: toml>=0.10.1 in /usr/local/lib/python3.7/dist-packages (from dvc) (0.10.2)\n",
            "Collecting ply>=3.9\n",
            "  Downloading ply-3.11-py2.py3-none-any.whl (49 kB)\n",
            "\u001b[K     |████████████████████████████████| 49 kB 6.1 MB/s \n",
            "\u001b[?25hRequirement already satisfied: setuptools>=34.0.0 in /usr/local/lib/python3.7/dist-packages (from dvc) (57.4.0)\n",
            "Collecting shortuuid>=0.5.0\n",
            "  Downloading shortuuid-1.0.1-py3-none-any.whl (7.5 kB)\n",
            "Requirement already satisfied: tabulate>=0.8.7 in /usr/local/lib/python3.7/dist-packages (from dvc) (0.8.9)\n",
            "Collecting zc.lockfile>=1.2.1\n",
            "  Downloading zc.lockfile-2.0-py2.py3-none-any.whl (9.7 kB)\n",
            "Collecting aiohttp\n",
            "  Downloading aiohttp-3.7.4.post0-cp37-cp37m-manylinux2014_x86_64.whl (1.3 MB)\n",
            "\u001b[K     |████████████████████████████████| 1.3 MB 48.4 MB/s \n",
            "\u001b[?25hRequirement already satisfied: future in /usr/local/lib/python3.7/dist-packages (from grandalf==0.6->dvc) (0.16.0)\n",
            "Requirement already satisfied: six in /usr/local/lib/python3.7/dist-packages (from configobj>=5.0.6->dvc) (1.15.0)\n",
            "Requirement already satisfied: urllib3>=1.24.1 in /usr/local/lib/python3.7/dist-packages (from dulwich>=0.20.23->dvc) (1.24.3)\n",
            "Requirement already satisfied: certifi in /usr/local/lib/python3.7/dist-packages (from dulwich>=0.20.23->dvc) (2021.5.30)\n",
            "Collecting atpublic\n",
            "  Downloading atpublic-2.3.tar.gz (16 kB)\n",
            "Collecting gitdb<5,>=4.0.1\n",
            "  Downloading gitdb-4.0.7-py3-none-any.whl (63 kB)\n",
            "\u001b[K     |████████████████████████████████| 63 kB 2.2 MB/s \n",
            "\u001b[?25hCollecting smmap<5,>=3.0.1\n",
            "  Downloading smmap-4.0.0-py2.py3-none-any.whl (24 kB)\n",
            "Requirement already satisfied: zipp>=0.5 in /usr/local/lib/python3.7/dist-packages (from importlib-metadata>=1.4->dvc) (3.5.0)\n",
            "Requirement already satisfied: cached-property in /usr/local/lib/python3.7/dist-packages (from pygit2>=1.5.0->dvc) (1.5.2)\n",
            "Requirement already satisfied: cffi>=1.4.0 in /usr/local/lib/python3.7/dist-packages (from pygit2>=1.5.0->dvc) (1.14.6)\n",
            "Requirement already satisfied: pycparser in /usr/local/lib/python3.7/dist-packages (from cffi>=1.4.0->pygit2>=1.5.0->dvc) (2.20)\n",
            "Requirement already satisfied: pyyaml in /usr/local/lib/python3.7/dist-packages (from python-benedict>=0.21.1->dvc) (3.13)\n",
            "Collecting ftfy\n",
            "  Downloading ftfy-6.0.3.tar.gz (64 kB)\n",
            "\u001b[K     |████████████████████████████████| 64 kB 3.3 MB/s \n",
            "\u001b[?25hRequirement already satisfied: python-slugify in /usr/local/lib/python3.7/dist-packages (from python-benedict>=0.21.1->dvc) (5.0.2)\n",
            "Collecting mailchecker\n",
            "  Downloading mailchecker-4.0.11.tar.gz (201 kB)\n",
            "\u001b[K     |████████████████████████████████| 201 kB 60.0 MB/s \n",
            "\u001b[?25hCollecting phonenumbers\n",
            "  Downloading phonenumbers-8.12.31-py2.py3-none-any.whl (2.6 MB)\n",
            "\u001b[K     |████████████████████████████████| 2.6 MB 42.6 MB/s \n",
            "\u001b[?25hCollecting python-fsutil\n",
            "  Downloading python_fsutil-0.5.0-py3-none-any.whl (11 kB)\n",
            "Collecting xmltodict\n",
            "  Downloading xmltodict-0.12.0-py2.py3-none-any.whl (9.2 kB)\n",
            "Requirement already satisfied: python-dateutil in /usr/local/lib/python3.7/dist-packages (from python-benedict>=0.21.1->dvc) (2.8.2)\n",
            "Requirement already satisfied: chardet<4,>=3.0.2 in /usr/local/lib/python3.7/dist-packages (from requests>=2.22.0->dvc) (3.0.4)\n",
            "Requirement already satisfied: idna<3,>=2.5 in /usr/local/lib/python3.7/dist-packages (from requests>=2.22.0->dvc) (2.10)\n",
            "Collecting commonmark<0.10.0,>=0.9.0\n",
            "  Downloading commonmark-0.9.1-py2.py3-none-any.whl (51 kB)\n",
            "\u001b[K     |████████████████████████████████| 51 kB 7.6 MB/s \n",
            "\u001b[?25hRequirement already satisfied: pygments<3.0.0,>=2.6.0 in /usr/local/lib/python3.7/dist-packages (from rich>=10.0.0->dvc) (2.6.1)\n",
            "Collecting ruamel.yaml.clib>=0.1.2\n",
            "  Downloading ruamel.yaml.clib-0.2.6-cp37-cp37m-manylinux1_x86_64.whl (546 kB)\n",
            "\u001b[K     |████████████████████████████████| 546 kB 61.2 MB/s \n",
            "\u001b[?25hRequirement already satisfied: attrs>=17.3.0 in /usr/local/lib/python3.7/dist-packages (from aiohttp->aiohttp-retry==2.4.5->dvc) (21.2.0)\n",
            "Collecting multidict<7.0,>=4.5\n",
            "  Downloading multidict-5.1.0-cp37-cp37m-manylinux2014_x86_64.whl (142 kB)\n",
            "\u001b[K     |████████████████████████████████| 142 kB 54.9 MB/s \n",
            "\u001b[?25hCollecting async-timeout<4.0,>=3.0\n",
            "  Downloading async_timeout-3.0.1-py3-none-any.whl (8.2 kB)\n",
            "Collecting yarl<2.0,>=1.0\n",
            "  Downloading yarl-1.6.3-cp37-cp37m-manylinux2014_x86_64.whl (294 kB)\n",
            "\u001b[K     |████████████████████████████████| 294 kB 59.4 MB/s \n",
            "\u001b[?25hCollecting pydrive2[fsspec]>=1.9.2\n",
            "  Downloading PyDrive2-1.9.3-py3-none-any.whl (38 kB)\n",
            "Requirement already satisfied: google-api-python-client>=1.12.5 in /usr/local/lib/python3.7/dist-packages (from pydrive2[fsspec]>=1.9.2->dvc) (1.12.8)\n",
            "Requirement already satisfied: oauth2client>=4.0.0 in /usr/local/lib/python3.7/dist-packages (from pydrive2[fsspec]>=1.9.2->dvc) (4.1.3)\n",
            "Collecting pyOpenSSL>=19.1.0\n",
            "  Downloading pyOpenSSL-20.0.1-py2.py3-none-any.whl (54 kB)\n",
            "\u001b[K     |████████████████████████████████| 54 kB 3.0 MB/s \n",
            "\u001b[?25hRequirement already satisfied: uritemplate<4dev,>=3.0.0 in /usr/local/lib/python3.7/dist-packages (from google-api-python-client>=1.12.5->pydrive2[fsspec]>=1.9.2->dvc) (3.0.1)\n",
            "Requirement already satisfied: google-auth-httplib2>=0.0.3 in /usr/local/lib/python3.7/dist-packages (from google-api-python-client>=1.12.5->pydrive2[fsspec]>=1.9.2->dvc) (0.0.4)\n",
            "Requirement already satisfied: google-api-core<2dev,>=1.21.0 in /usr/local/lib/python3.7/dist-packages (from google-api-python-client>=1.12.5->pydrive2[fsspec]>=1.9.2->dvc) (1.26.3)\n",
            "Requirement already satisfied: google-auth>=1.16.0 in /usr/local/lib/python3.7/dist-packages (from google-api-python-client>=1.12.5->pydrive2[fsspec]>=1.9.2->dvc) (1.34.0)\n",
            "Requirement already satisfied: httplib2<1dev,>=0.15.0 in /usr/local/lib/python3.7/dist-packages (from google-api-python-client>=1.12.5->pydrive2[fsspec]>=1.9.2->dvc) (0.17.4)\n",
            "Requirement already satisfied: protobuf>=3.12.0 in /usr/local/lib/python3.7/dist-packages (from google-api-core<2dev,>=1.21.0->google-api-python-client>=1.12.5->pydrive2[fsspec]>=1.9.2->dvc) (3.17.3)\n",
            "Requirement already satisfied: googleapis-common-protos<2.0dev,>=1.6.0 in /usr/local/lib/python3.7/dist-packages (from google-api-core<2dev,>=1.21.0->google-api-python-client>=1.12.5->pydrive2[fsspec]>=1.9.2->dvc) (1.53.0)\n",
            "Requirement already satisfied: pytz in /usr/local/lib/python3.7/dist-packages (from google-api-core<2dev,>=1.21.0->google-api-python-client>=1.12.5->pydrive2[fsspec]>=1.9.2->dvc) (2018.9)\n",
            "Requirement already satisfied: rsa<5,>=3.1.4 in /usr/local/lib/python3.7/dist-packages (from google-auth>=1.16.0->google-api-python-client>=1.12.5->pydrive2[fsspec]>=1.9.2->dvc) (4.7.2)\n",
            "Requirement already satisfied: cachetools<5.0,>=2.0.0 in /usr/local/lib/python3.7/dist-packages (from google-auth>=1.16.0->google-api-python-client>=1.12.5->pydrive2[fsspec]>=1.9.2->dvc) (4.2.2)\n",
            "Requirement already satisfied: pyasn1-modules>=0.2.1 in /usr/local/lib/python3.7/dist-packages (from google-auth>=1.16.0->google-api-python-client>=1.12.5->pydrive2[fsspec]>=1.9.2->dvc) (0.2.8)\n",
            "Collecting cryptography>=3.2\n",
            "  Downloading cryptography-3.4.8-cp36-abi3-manylinux_2_24_x86_64.whl (3.0 MB)\n",
            "\u001b[K     |████████████████████████████████| 3.0 MB 52.3 MB/s \n",
            "\u001b[?25hRequirement already satisfied: wcwidth in /usr/local/lib/python3.7/dist-packages (from ftfy->python-benedict>=0.21.1->dvc) (0.2.5)\n",
            "Requirement already satisfied: text-unidecode>=1.3 in /usr/local/lib/python3.7/dist-packages (from python-slugify->python-benedict>=0.21.1->dvc) (1.3)\n",
            "Building wheels for collected packages: configobj, flufl.lock, nanotime, pygtrie, atpublic, ftfy, mailchecker\n",
            "  Building wheel for configobj (setup.py) ... \u001b[?25l\u001b[?25hdone\n",
            "  Created wheel for configobj: filename=configobj-5.0.6-py3-none-any.whl size=34546 sha256=d0274c35f21f5a8fa1e69b02f0a1a2f5a0f508e18104d2cba2cf9ee6caf25d7f\n",
            "  Stored in directory: /root/.cache/pip/wheels/0d/c4/19/13d74440f2a571841db6b6e0a273694327498884dafb9cf978\n",
            "  Building wheel for flufl.lock (setup.py) ... \u001b[?25l\u001b[?25hdone\n",
            "  Created wheel for flufl.lock: filename=flufl.lock-3.2-py3-none-any.whl size=19929 sha256=5a5f8709ac30130ee9c7ca0d1045c246091bdcb093a81bdf9051aefcb4f4465d\n",
            "  Stored in directory: /root/.cache/pip/wheels/49/68/a0/8e7cb7bbf4990fc10b5a082aa0eb3ac66787ca11e8eca445b2\n",
            "  Building wheel for nanotime (setup.py) ... \u001b[?25l\u001b[?25hdone\n",
            "  Created wheel for nanotime: filename=nanotime-0.5.2-py3-none-any.whl size=2440 sha256=2bafb30f1870aa73a220d2945d8eaeea83ded4353cea9c95d9a0acb3f9f36926\n",
            "  Stored in directory: /root/.cache/pip/wheels/b8/92/aa/456d462c908b4e210c3928f778d28f94049fc9e47af8b191c9\n",
            "  Building wheel for pygtrie (setup.py) ... \u001b[?25l\u001b[?25hdone\n",
            "  Created wheel for pygtrie: filename=pygtrie-2.4.2-py3-none-any.whl size=19062 sha256=3d7b0b62858debe58527f1143799e623bc2b02abf5c3fa52205702ab354fe629\n",
            "  Stored in directory: /root/.cache/pip/wheels/d3/f8/ba/1d828b1603ea422686eb694253a43cb3a5901ea4696c1e0603\n",
            "  Building wheel for atpublic (setup.py) ... \u001b[?25l\u001b[?25hdone\n",
            "  Created wheel for atpublic: filename=atpublic-2.3-py3-none-any.whl size=5033 sha256=81d041d5162ab9628b5848730c612a9ecdae71841a12c7c2417fd74a7325ed45\n",
            "  Stored in directory: /root/.cache/pip/wheels/46/d9/0f/54be2ecb4bcb1612f987f0b6482d88fa7f3e43d3946f36a32a\n",
            "  Building wheel for ftfy (setup.py) ... \u001b[?25l\u001b[?25hdone\n",
            "  Created wheel for ftfy: filename=ftfy-6.0.3-py3-none-any.whl size=41933 sha256=274dbd86fd2ae3fec04d374673125963126085fad537e05eda87ff1ec0b04436\n",
            "  Stored in directory: /root/.cache/pip/wheels/19/f5/38/273eb3b5e76dfd850619312f693716ac4518b498f5ffb6f56d\n",
            "  Building wheel for mailchecker (setup.py) ... \u001b[?25l\u001b[?25hdone\n",
            "  Created wheel for mailchecker: filename=mailchecker-4.0.11-py3-none-any.whl size=201673 sha256=4df7ba63a5195d1777bb3e5d83a6279eae2f60c70a667e17318aea3bfe22c2fc\n",
            "  Stored in directory: /root/.cache/pip/wheels/0b/cd/39/230bf7caff55afc08eb4a1d433731706d76fde0b95d70df3ca\n",
            "Successfully built configobj flufl.lock nanotime pygtrie atpublic ftfy mailchecker\n",
            "Installing collected packages: multidict, yarl, smmap, cryptography, async-timeout, xmltodict, ruamel.yaml.clib, python-fsutil, pyOpenSSL, phonenumbers, mailchecker, gitdb, ftfy, fsspec, commonmark, colorama, atpublic, aiohttp, zc.lockfile, voluptuous, shtab, shortuuid, ruamel.yaml, rich, python-benedict, pygtrie, pygit2, pydrive2, psutil, ply, pathspec, nanotime, grandalf, gitpython, funcy, flufl.lock, flatten-dict, dulwich, dpath, distro, diskcache, dictdiffer, configobj, aiohttp-retry, dvc\n",
            "  Attempting uninstall: psutil\n",
            "    Found existing installation: psutil 5.4.8\n",
            "    Uninstalling psutil-5.4.8:\n",
            "      Successfully uninstalled psutil-5.4.8\n",
            "Successfully installed aiohttp-3.7.4.post0 aiohttp-retry-2.4.5 async-timeout-3.0.1 atpublic-2.3 colorama-0.4.4 commonmark-0.9.1 configobj-5.0.6 cryptography-3.4.8 dictdiffer-0.9.0 diskcache-5.2.1 distro-1.6.0 dpath-2.0.5 dulwich-0.20.25 dvc-2.7.2 flatten-dict-0.4.2 flufl.lock-3.2 fsspec-2021.8.1 ftfy-6.0.3 funcy-1.16 gitdb-4.0.7 gitpython-3.1.18 grandalf-0.6 mailchecker-4.0.11 multidict-5.1.0 nanotime-0.5.2 pathspec-0.8.1 phonenumbers-8.12.31 ply-3.11 psutil-5.8.0 pyOpenSSL-20.0.1 pydrive2-1.9.3 pygit2-1.6.1 pygtrie-2.4.2 python-benedict-0.24.2 python-fsutil-0.5.0 rich-10.9.0 ruamel.yaml-0.17.16 ruamel.yaml.clib-0.2.6 shortuuid-1.0.1 shtab-1.4.1 smmap-4.0.0 voluptuous-0.12.1 xmltodict-0.12.0 yarl-1.6.3 zc.lockfile-2.0\n"
          ]
        },
        {
          "output_type": "display_data",
          "data": {
            "application/vnd.colab-display-data+json": {
              "pip_warning": {
                "packages": [
                  "psutil"
                ]
              }
            }
          },
          "metadata": {}
        }
      ]
    },
    {
      "cell_type": "code",
      "metadata": {
        "id": "j56uHw8lucj6"
      },
      "source": [
        "# Data Version Control\n",
        "import os\n",
        "import dvc.api\n",
        "from io import StringIO,BytesIO\n",
        "# Other\n",
        "import warnings\n",
        "warnings.filterwarnings('ignore')\n",
        "# Your dependencies ... \n",
        "import numpy as np\n",
        "import pandas as pd\n",
        "import seaborn as sns\n",
        "import matplotlib.pyplot as plt\n",
        "from statsmodels.tsa.stattools import adfuller\n",
        "from statsmodels.tsa.arima_model import ARIMA\n",
        "import statsmodels.api as sm\n",
        "import statsmodels.tsa.api as smt\n",
        "import statsmodels.formula.api as smf\n",
        "from sklearn.metrics import mean_squared_error, mean_absolute_error\n",
        "\n",
        "from statsmodels.graphics.tsaplots import plot_acf, plot_pacf\n",
        "\n",
        "%matplotlib inline"
      ],
      "id": "j56uHw8lucj6",
      "execution_count": 19,
      "outputs": []
    },
    {
      "cell_type": "code",
      "metadata": {
        "id": "5794e11d"
      },
      "source": [
        "# Data Version Control\n",
        "import os\n",
        "import dvc.api\n",
        "from io import StringIO,BytesIO\n",
        "\n",
        "# Your dependencies ... \n",
        "import pandas as pd"
      ],
      "id": "5794e11d",
      "execution_count": 2,
      "outputs": []
    },
    {
      "cell_type": "code",
      "metadata": {
        "id": "e0e9620a"
      },
      "source": [
        "def get_dvc_file(file_path: str, github_tag='v1.1_Gdrive_remote', \n",
        "                 pat_path='.github_pat', repo='Explore-AI/EXPLORE.Utilities.Epl.Core.git'):\n",
        "  \"\"\"Utility function to convert a file path into DVC-based\n",
        "     file stream for the underlying data. \n",
        "\n",
        "    Args:\n",
        "        file_path (str): Path to the data file. Should be relative to the \n",
        "                         base of the Git repository. \n",
        "        github_tag (str): The GitHub tag associated with the version \n",
        "                          of the data being used.\n",
        "        pat_path (str): Path to a file containing your GitHub personal\n",
        "                        access token (PAT).\n",
        "        repo (str): The GitHub repo associated with DVC where the data is \n",
        "                    being tracked. \n",
        "  \"\"\"\n",
        "  # Retrieve GitHub secrets file\n",
        "  try:\n",
        "    with open(pat_path, \"r\") as f: \n",
        "      pat_secret = f.readline()\n",
        "  except: \n",
        "    raise FileNotFoundError(f\"The given path to your GitHub PAT file: '{pat_path}', doesn't exist\")\n",
        "  \n",
        "  # Choose reading method based-on input file type\n",
        "  file_extension = file_path.split('.')[-1]\n",
        "\n",
        "  if file_extension in ['csv']:\n",
        "    read_mode = 'r'\n",
        "    reader = lambda x: StringIO(x)\n",
        "  else:\n",
        "    read_mode = 'rb'\n",
        "    reader = lambda x: BytesIO(x)\n",
        "\n",
        "  file_stream = dvc.api.read(\n",
        "      path=file_path,\n",
        "      repo=f'https://{pat_secret}@github.com/{repo}',\n",
        "      rev=github_tag,\n",
        "      mode=read_mode\n",
        "  )\n",
        "  file_stream = reader(file_stream)\n",
        "  return file_stream"
      ],
      "id": "e0e9620a",
      "execution_count": 3,
      "outputs": []
    },
    {
      "cell_type": "code",
      "metadata": {
        "id": "e94f2a45"
      },
      "source": [
        "#Filtered raw data\n",
        "raw_filtered = pd.read_csv(get_dvc_file('enrich/water/synthetic_data/validation/data/filtered_raw.csv','v1.3_raw_filter_data'))"
      ],
      "id": "e94f2a45",
      "execution_count": 9,
      "outputs": []
    },
    {
      "cell_type": "code",
      "metadata": {
        "id": "655a879a",
        "outputId": "97052502-339a-4a80-eda8-7702e8232db8",
        "colab": {
          "base_uri": "https://localhost:8080/"
        }
      },
      "source": [
        "raw_filtered.isnull().sum()"
      ],
      "id": "655a879a",
      "execution_count": 10,
      "outputs": [
        {
          "output_type": "execute_result",
          "data": {
            "text/plain": [
              "timestamp         0\n",
              "tag_name          0\n",
              "value        130167\n",
              "dtype: int64"
            ]
          },
          "metadata": {},
          "execution_count": 10
        }
      ]
    },
    {
      "cell_type": "code",
      "metadata": {
        "id": "e6572f73"
      },
      "source": [
        "def fill_empty(df, column):\n",
        "    \"\"\"\n",
        "    This function replaces empty and null values using the forward fill method\n",
        "    \"\"\"\n",
        "    changed = df[column].isnull().sum()\n",
        "    df[column].fillna((df[column].mean()), inplace=True)\n",
        "    \n",
        "    return 'Number of entries filled: '+str(changed)"
      ],
      "id": "e6572f73",
      "execution_count": 11,
      "outputs": []
    },
    {
      "cell_type": "code",
      "metadata": {
        "id": "855470aa",
        "outputId": "38b67fd2-69d6-4bfc-e7f2-04efebe0e590",
        "colab": {
          "base_uri": "https://localhost:8080/",
          "height": 35
        }
      },
      "source": [
        "fill_empty(raw_filtered, 'value')"
      ],
      "id": "855470aa",
      "execution_count": 12,
      "outputs": [
        {
          "output_type": "execute_result",
          "data": {
            "application/vnd.google.colaboratory.intrinsic+json": {
              "type": "string"
            },
            "text/plain": [
              "'Number of entries filled: 130167'"
            ]
          },
          "metadata": {},
          "execution_count": 12
        }
      ]
    },
    {
      "cell_type": "code",
      "metadata": {
        "id": "aceb8b31",
        "outputId": "d43fe8cb-6257-488c-eb6c-fdee931f3ffc",
        "colab": {
          "base_uri": "https://localhost:8080/"
        }
      },
      "source": [
        "raw_filtered.isnull().sum()"
      ],
      "id": "aceb8b31",
      "execution_count": 13,
      "outputs": [
        {
          "output_type": "execute_result",
          "data": {
            "text/plain": [
              "timestamp    0\n",
              "tag_name     0\n",
              "value        0\n",
              "dtype: int64"
            ]
          },
          "metadata": {},
          "execution_count": 13
        }
      ]
    },
    {
      "cell_type": "code",
      "metadata": {
        "id": "eb2f500d",
        "outputId": "f7e744ad-4f0d-4105-9413-d1837171061b",
        "colab": {
          "base_uri": "https://localhost:8080/",
          "height": 205
        }
      },
      "source": [
        "raw_filtered.head()"
      ],
      "id": "eb2f500d",
      "execution_count": 14,
      "outputs": [
        {
          "output_type": "execute_result",
          "data": {
            "text/html": [
              "<div>\n",
              "<style scoped>\n",
              "    .dataframe tbody tr th:only-of-type {\n",
              "        vertical-align: middle;\n",
              "    }\n",
              "\n",
              "    .dataframe tbody tr th {\n",
              "        vertical-align: top;\n",
              "    }\n",
              "\n",
              "    .dataframe thead th {\n",
              "        text-align: right;\n",
              "    }\n",
              "</style>\n",
              "<table border=\"1\" class=\"dataframe\">\n",
              "  <thead>\n",
              "    <tr style=\"text-align: right;\">\n",
              "      <th></th>\n",
              "      <th>timestamp</th>\n",
              "      <th>tag_name</th>\n",
              "      <th>value</th>\n",
              "    </tr>\n",
              "  </thead>\n",
              "  <tbody>\n",
              "    <tr>\n",
              "      <th>0</th>\n",
              "      <td>2021-05-31T23:45:00.000Z</td>\n",
              "      <td>DLM:14336-FLOW</td>\n",
              "      <td>30.410847</td>\n",
              "    </tr>\n",
              "    <tr>\n",
              "      <th>1</th>\n",
              "      <td>2021-06-01T00:00:00.000Z</td>\n",
              "      <td>DLM:14336-FLOW</td>\n",
              "      <td>29.162193</td>\n",
              "    </tr>\n",
              "    <tr>\n",
              "      <th>2</th>\n",
              "      <td>2021-06-01T00:15:00.000Z</td>\n",
              "      <td>DLM:14336-FLOW</td>\n",
              "      <td>28.678840</td>\n",
              "    </tr>\n",
              "    <tr>\n",
              "      <th>3</th>\n",
              "      <td>2021-06-01T00:30:00.000Z</td>\n",
              "      <td>DLM:14336-FLOW</td>\n",
              "      <td>27.416758</td>\n",
              "    </tr>\n",
              "    <tr>\n",
              "      <th>4</th>\n",
              "      <td>2021-06-01T00:45:00.000Z</td>\n",
              "      <td>DLM:14336-FLOW</td>\n",
              "      <td>26.906553</td>\n",
              "    </tr>\n",
              "  </tbody>\n",
              "</table>\n",
              "</div>"
            ],
            "text/plain": [
              "                  timestamp        tag_name      value\n",
              "0  2021-05-31T23:45:00.000Z  DLM:14336-FLOW  30.410847\n",
              "1  2021-06-01T00:00:00.000Z  DLM:14336-FLOW  29.162193\n",
              "2  2021-06-01T00:15:00.000Z  DLM:14336-FLOW  28.678840\n",
              "3  2021-06-01T00:30:00.000Z  DLM:14336-FLOW  27.416758\n",
              "4  2021-06-01T00:45:00.000Z  DLM:14336-FLOW  26.906553"
            ]
          },
          "metadata": {},
          "execution_count": 14
        }
      ]
    },
    {
      "cell_type": "code",
      "metadata": {
        "id": "4e661524"
      },
      "source": [
        "raw_filtered.set_index('timestamp', inplace=True)"
      ],
      "id": "4e661524",
      "execution_count": 15,
      "outputs": []
    },
    {
      "cell_type": "code",
      "metadata": {
        "id": "RudsbgwStnkJ",
        "outputId": "1fa45ee6-c297-4234-df15-334cd9968744",
        "colab": {
          "base_uri": "https://localhost:8080/",
          "height": 236
        }
      },
      "source": [
        "raw_filtered.head()"
      ],
      "id": "RudsbgwStnkJ",
      "execution_count": 16,
      "outputs": [
        {
          "output_type": "execute_result",
          "data": {
            "text/html": [
              "<div>\n",
              "<style scoped>\n",
              "    .dataframe tbody tr th:only-of-type {\n",
              "        vertical-align: middle;\n",
              "    }\n",
              "\n",
              "    .dataframe tbody tr th {\n",
              "        vertical-align: top;\n",
              "    }\n",
              "\n",
              "    .dataframe thead th {\n",
              "        text-align: right;\n",
              "    }\n",
              "</style>\n",
              "<table border=\"1\" class=\"dataframe\">\n",
              "  <thead>\n",
              "    <tr style=\"text-align: right;\">\n",
              "      <th></th>\n",
              "      <th>tag_name</th>\n",
              "      <th>value</th>\n",
              "    </tr>\n",
              "    <tr>\n",
              "      <th>timestamp</th>\n",
              "      <th></th>\n",
              "      <th></th>\n",
              "    </tr>\n",
              "  </thead>\n",
              "  <tbody>\n",
              "    <tr>\n",
              "      <th>2021-05-31T23:45:00.000Z</th>\n",
              "      <td>DLM:14336-FLOW</td>\n",
              "      <td>30.410847</td>\n",
              "    </tr>\n",
              "    <tr>\n",
              "      <th>2021-06-01T00:00:00.000Z</th>\n",
              "      <td>DLM:14336-FLOW</td>\n",
              "      <td>29.162193</td>\n",
              "    </tr>\n",
              "    <tr>\n",
              "      <th>2021-06-01T00:15:00.000Z</th>\n",
              "      <td>DLM:14336-FLOW</td>\n",
              "      <td>28.678840</td>\n",
              "    </tr>\n",
              "    <tr>\n",
              "      <th>2021-06-01T00:30:00.000Z</th>\n",
              "      <td>DLM:14336-FLOW</td>\n",
              "      <td>27.416758</td>\n",
              "    </tr>\n",
              "    <tr>\n",
              "      <th>2021-06-01T00:45:00.000Z</th>\n",
              "      <td>DLM:14336-FLOW</td>\n",
              "      <td>26.906553</td>\n",
              "    </tr>\n",
              "  </tbody>\n",
              "</table>\n",
              "</div>"
            ],
            "text/plain": [
              "                                tag_name      value\n",
              "timestamp                                          \n",
              "2021-05-31T23:45:00.000Z  DLM:14336-FLOW  30.410847\n",
              "2021-06-01T00:00:00.000Z  DLM:14336-FLOW  29.162193\n",
              "2021-06-01T00:15:00.000Z  DLM:14336-FLOW  28.678840\n",
              "2021-06-01T00:30:00.000Z  DLM:14336-FLOW  27.416758\n",
              "2021-06-01T00:45:00.000Z  DLM:14336-FLOW  26.906553"
            ]
          },
          "metadata": {},
          "execution_count": 16
        }
      ]
    },
    {
      "cell_type": "code",
      "metadata": {
        "id": "9qH7efb0tns0",
        "outputId": "bfb7b1cb-f430-420d-9fa5-e3e9920449f4",
        "colab": {
          "base_uri": "https://localhost:8080/",
          "height": 299
        }
      },
      "source": [
        "raw_filtered.describe()"
      ],
      "id": "9qH7efb0tns0",
      "execution_count": 17,
      "outputs": [
        {
          "output_type": "execute_result",
          "data": {
            "text/html": [
              "<div>\n",
              "<style scoped>\n",
              "    .dataframe tbody tr th:only-of-type {\n",
              "        vertical-align: middle;\n",
              "    }\n",
              "\n",
              "    .dataframe tbody tr th {\n",
              "        vertical-align: top;\n",
              "    }\n",
              "\n",
              "    .dataframe thead th {\n",
              "        text-align: right;\n",
              "    }\n",
              "</style>\n",
              "<table border=\"1\" class=\"dataframe\">\n",
              "  <thead>\n",
              "    <tr style=\"text-align: right;\">\n",
              "      <th></th>\n",
              "      <th>value</th>\n",
              "    </tr>\n",
              "  </thead>\n",
              "  <tbody>\n",
              "    <tr>\n",
              "      <th>count</th>\n",
              "      <td>2.525889e+06</td>\n",
              "    </tr>\n",
              "    <tr>\n",
              "      <th>mean</th>\n",
              "      <td>1.220961e+01</td>\n",
              "    </tr>\n",
              "    <tr>\n",
              "      <th>std</th>\n",
              "      <td>1.970281e+01</td>\n",
              "    </tr>\n",
              "    <tr>\n",
              "      <th>min</th>\n",
              "      <td>-1.425432e+02</td>\n",
              "    </tr>\n",
              "    <tr>\n",
              "      <th>25%</th>\n",
              "      <td>3.000000e-01</td>\n",
              "    </tr>\n",
              "    <tr>\n",
              "      <th>50%</th>\n",
              "      <td>5.729991e+00</td>\n",
              "    </tr>\n",
              "    <tr>\n",
              "      <th>75%</th>\n",
              "      <td>1.735883e+01</td>\n",
              "    </tr>\n",
              "    <tr>\n",
              "      <th>max</th>\n",
              "      <td>2.821402e+02</td>\n",
              "    </tr>\n",
              "  </tbody>\n",
              "</table>\n",
              "</div>"
            ],
            "text/plain": [
              "              value\n",
              "count  2.525889e+06\n",
              "mean   1.220961e+01\n",
              "std    1.970281e+01\n",
              "min   -1.425432e+02\n",
              "25%    3.000000e-01\n",
              "50%    5.729991e+00\n",
              "75%    1.735883e+01\n",
              "max    2.821402e+02"
            ]
          },
          "metadata": {},
          "execution_count": 17
        }
      ]
    },
    {
      "cell_type": "code",
      "metadata": {
        "id": "KEiULOg-tnvc"
      },
      "source": [
        ""
      ],
      "id": "KEiULOg-tnvc",
      "execution_count": 20,
      "outputs": []
    },
    {
      "cell_type": "code",
      "metadata": {
        "id": "zrytv5ObtnyB"
      },
      "source": [
        ""
      ],
      "id": "zrytv5ObtnyB",
      "execution_count": 17,
      "outputs": []
    },
    {
      "cell_type": "code",
      "metadata": {
        "id": "FDjSzleluIM9"
      },
      "source": [
        ""
      ],
      "id": "FDjSzleluIM9",
      "execution_count": 17,
      "outputs": []
    },
    {
      "cell_type": "code",
      "metadata": {
        "id": "JCvoidyZuIQR"
      },
      "source": [
        ""
      ],
      "id": "JCvoidyZuIQR",
      "execution_count": 17,
      "outputs": []
    },
    {
      "cell_type": "code",
      "metadata": {
        "id": "PRKUe08vuITA"
      },
      "source": [
        ""
      ],
      "id": "PRKUe08vuITA",
      "execution_count": 17,
      "outputs": []
    },
    {
      "cell_type": "code",
      "metadata": {
        "id": "dOCx5pwhuIVZ"
      },
      "source": [
        ""
      ],
      "id": "dOCx5pwhuIVZ",
      "execution_count": 17,
      "outputs": []
    },
    {
      "cell_type": "code",
      "metadata": {
        "id": "h0nJnYBDuIXw"
      },
      "source": [
        ""
      ],
      "id": "h0nJnYBDuIXw",
      "execution_count": 17,
      "outputs": []
    },
    {
      "cell_type": "code",
      "metadata": {
        "id": "NSA28lHcuIaH"
      },
      "source": [
        ""
      ],
      "id": "NSA28lHcuIaH",
      "execution_count": 17,
      "outputs": []
    },
    {
      "cell_type": "code",
      "metadata": {
        "id": "Lyuk-jLZuIcd"
      },
      "source": [
        ""
      ],
      "id": "Lyuk-jLZuIcd",
      "execution_count": 17,
      "outputs": []
    },
    {
      "cell_type": "code",
      "metadata": {
        "id": "_Nr0iU1juIez"
      },
      "source": [
        ""
      ],
      "id": "_Nr0iU1juIez",
      "execution_count": 17,
      "outputs": []
    },
    {
      "cell_type": "code",
      "metadata": {
        "id": "eAhY9yFluIhB"
      },
      "source": [
        ""
      ],
      "id": "eAhY9yFluIhB",
      "execution_count": 17,
      "outputs": []
    },
    {
      "cell_type": "code",
      "metadata": {
        "id": "sYkBntpnuIja"
      },
      "source": [
        ""
      ],
      "id": "sYkBntpnuIja",
      "execution_count": 17,
      "outputs": []
    },
    {
      "cell_type": "code",
      "metadata": {
        "id": "-Fb7l6SzuIlt"
      },
      "source": [
        ""
      ],
      "id": "-Fb7l6SzuIlt",
      "execution_count": 17,
      "outputs": []
    },
    {
      "cell_type": "code",
      "metadata": {
        "id": "j34KDUc4uIn6"
      },
      "source": [
        ""
      ],
      "id": "j34KDUc4uIn6",
      "execution_count": 17,
      "outputs": []
    },
    {
      "cell_type": "code",
      "metadata": {
        "id": "haujpF--uIqE"
      },
      "source": [
        ""
      ],
      "id": "haujpF--uIqE",
      "execution_count": 17,
      "outputs": []
    },
    {
      "cell_type": "code",
      "metadata": {
        "id": "Pju66zLbuIsZ"
      },
      "source": [
        ""
      ],
      "id": "Pju66zLbuIsZ",
      "execution_count": 17,
      "outputs": []
    },
    {
      "cell_type": "code",
      "metadata": {
        "id": "5lBBrfTMuIu2"
      },
      "source": [
        ""
      ],
      "id": "5lBBrfTMuIu2",
      "execution_count": 17,
      "outputs": []
    },
    {
      "cell_type": "code",
      "metadata": {
        "id": "zRlNfR-juIwh"
      },
      "source": [
        ""
      ],
      "id": "zRlNfR-juIwh",
      "execution_count": 17,
      "outputs": []
    },
    {
      "cell_type": "code",
      "metadata": {
        "id": "SJwGP8NsuIx9"
      },
      "source": [
        ""
      ],
      "id": "SJwGP8NsuIx9",
      "execution_count": null,
      "outputs": []
    }
  ]
}